{
 "cells": [
  {
   "cell_type": "code",
   "execution_count": 1,
   "id": "98a6bb80",
   "metadata": {},
   "outputs": [],
   "source": [
    "def even(num):\n",
    "    if num%2==0:\n",
    "        return True"
   ]
  },
  {
   "cell_type": "code",
   "execution_count": 2,
   "id": "58ca4b4a",
   "metadata": {},
   "outputs": [],
   "source": [
    "lis = [1,2,3,4,5,3,7,8,90,34,57,68]"
   ]
  },
  {
   "cell_type": "code",
   "execution_count": 3,
   "id": "3c98b2be",
   "metadata": {},
   "outputs": [
    {
     "data": {
      "text/plain": [
       "<filter at 0x7fc690473a30>"
      ]
     },
     "execution_count": 3,
     "metadata": {},
     "output_type": "execute_result"
    }
   ],
   "source": [
    "filter(even, lis)"
   ]
  },
  {
   "cell_type": "code",
   "execution_count": 4,
   "id": "8d1190da",
   "metadata": {},
   "outputs": [
    {
     "data": {
      "text/plain": [
       "[2, 4, 8, 90, 34, 68]"
      ]
     },
     "execution_count": 4,
     "metadata": {},
     "output_type": "execute_result"
    }
   ],
   "source": [
    "list(filter(even, lis))"
   ]
  },
  {
   "cell_type": "code",
   "execution_count": 5,
   "id": "c240c40a",
   "metadata": {},
   "outputs": [
    {
     "data": {
      "text/plain": [
       "<filter at 0x7fc690473310>"
      ]
     },
     "execution_count": 5,
     "metadata": {},
     "output_type": "execute_result"
    }
   ],
   "source": [
    "filter(lambda num:num%2==0, lis)"
   ]
  },
  {
   "cell_type": "code",
   "execution_count": 6,
   "id": "27422b3f",
   "metadata": {},
   "outputs": [
    {
     "data": {
      "text/plain": [
       "[2, 4, 8, 90, 34, 68]"
      ]
     },
     "execution_count": 6,
     "metadata": {},
     "output_type": "execute_result"
    }
   ],
   "source": [
    "list(filter(lambda num:num%2==0, lis))"
   ]
  },
  {
   "cell_type": "code",
   "execution_count": 7,
   "id": "80917fb0",
   "metadata": {},
   "outputs": [
    {
     "data": {
      "text/plain": [
       "<map at 0x7fc6904736d0>"
      ]
     },
     "execution_count": 7,
     "metadata": {},
     "output_type": "execute_result"
    }
   ],
   "source": [
    "map(lambda num:num%2==0, lis)"
   ]
  },
  {
   "cell_type": "code",
   "execution_count": 8,
   "id": "8cf3d159",
   "metadata": {},
   "outputs": [
    {
     "data": {
      "text/plain": [
       "[False, True, False, True, False, False, False, True, True, True, False, True]"
      ]
     },
     "execution_count": 8,
     "metadata": {},
     "output_type": "execute_result"
    }
   ],
   "source": [
    "list(map(lambda num:num%2==0, lis))"
   ]
  },
  {
   "cell_type": "code",
   "execution_count": null,
   "id": "cda303e9",
   "metadata": {},
   "outputs": [],
   "source": []
  }
 ],
 "metadata": {
  "kernelspec": {
   "display_name": "Python 3",
   "language": "python",
   "name": "python3"
  },
  "language_info": {
   "codemirror_mode": {
    "name": "ipython",
    "version": 3
   },
   "file_extension": ".py",
   "mimetype": "text/x-python",
   "name": "python",
   "nbconvert_exporter": "python",
   "pygments_lexer": "ipython3",
   "version": "3.8.8"
  }
 },
 "nbformat": 4,
 "nbformat_minor": 5
}
