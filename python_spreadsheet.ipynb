{
 "cells": [
  {
   "cell_type": "code",
   "execution_count": 5,
   "id": "b620e9eb",
   "metadata": {},
   "outputs": [
    {
     "data": {
      "text/plain": [
       "'C:\\\\Users\\\\Tarun'"
      ]
     },
     "execution_count": 5,
     "metadata": {},
     "output_type": "execute_result"
    }
   ],
   "source": [
    "import os\n",
    "os.getcwd()"
   ]
  },
  {
   "cell_type": "code",
   "execution_count": 6,
   "id": "99296718",
   "metadata": {},
   "outputs": [
    {
     "data": {
      "text/plain": [
       "'C:\\\\Users\\\\Tarun'"
      ]
     },
     "execution_count": 6,
     "metadata": {},
     "output_type": "execute_result"
    }
   ],
   "source": [
    "pwd"
   ]
  },
  {
   "cell_type": "code",
   "execution_count": 19,
   "id": "6bdb479b",
   "metadata": {},
   "outputs": [],
   "source": [
    "import csv"
   ]
  },
  {
   "cell_type": "code",
   "execution_count": 23,
   "id": "78115f9a",
   "metadata": {},
   "outputs": [],
   "source": [
    "myfile=open('example.csv','r',encoding='utf-8')"
   ]
  },
  {
   "cell_type": "code",
   "execution_count": 24,
   "id": "74fb2eb6",
   "metadata": {},
   "outputs": [],
   "source": [
    "csv_data = csv.reader(myfile)"
   ]
  },
  {
   "cell_type": "code",
   "execution_count": 25,
   "id": "31f8fa16",
   "metadata": {},
   "outputs": [],
   "source": [
    "data_list= list(csv_data)"
   ]
  },
  {
   "cell_type": "code",
   "execution_count": 26,
   "id": "4e3c13f8",
   "metadata": {},
   "outputs": [
    {
     "data": {
      "text/plain": [
       "[]"
      ]
     },
     "execution_count": 26,
     "metadata": {},
     "output_type": "execute_result"
    }
   ],
   "source": [
    "data_list"
   ]
  },
  {
   "cell_type": "code",
   "execution_count": 66,
   "id": "657d6cd8",
   "metadata": {},
   "outputs": [],
   "source": [
    "myfile=open('example.csv','w',encoding='utf-8',newline='')\n",
    "csv_writer = csv.writer(myfile,delimiter='|')"
   ]
  },
  {
   "cell_type": "code",
   "execution_count": 67,
   "id": "eabfbe28",
   "metadata": {},
   "outputs": [
    {
     "data": {
      "text/plain": [
       "20"
      ]
     },
     "execution_count": 67,
     "metadata": {},
     "output_type": "execute_result"
    }
   ],
   "source": [
    "csv_writer.writerow(['name','age','no','gender'])"
   ]
  },
  {
   "cell_type": "code",
   "execution_count": 68,
   "id": "2c67dd07",
   "metadata": {},
   "outputs": [],
   "source": [
    "csv_writer.writerows([['tarun','31','949','male'],['shipra','30','99100','female']])"
   ]
  },
  {
   "cell_type": "code",
   "execution_count": 69,
   "id": "010b4b43",
   "metadata": {},
   "outputs": [],
   "source": [
    "#myfile.readable"
   ]
  },
  {
   "cell_type": "code",
   "execution_count": 70,
   "id": "04dd4ae7",
   "metadata": {},
   "outputs": [],
   "source": [
    "myfile.close()"
   ]
  },
  {
   "cell_type": "code",
   "execution_count": null,
   "id": "18b2e939",
   "metadata": {},
   "outputs": [],
   "source": []
  }
 ],
 "metadata": {
  "kernelspec": {
   "display_name": "Python 3",
   "language": "python",
   "name": "python3"
  },
  "language_info": {
   "codemirror_mode": {
    "name": "ipython",
    "version": 3
   },
   "file_extension": ".py",
   "mimetype": "text/x-python",
   "name": "python",
   "nbconvert_exporter": "python",
   "pygments_lexer": "ipython3",
   "version": "3.8.8"
  }
 },
 "nbformat": 4,
 "nbformat_minor": 5
}
