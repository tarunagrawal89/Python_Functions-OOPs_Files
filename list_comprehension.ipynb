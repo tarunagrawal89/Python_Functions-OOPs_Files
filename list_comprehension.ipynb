{
 "cells": [
  {
   "cell_type": "code",
   "execution_count": 14,
   "id": "23c1fdc7",
   "metadata": {},
   "outputs": [],
   "source": [
    "# list comprehenssion provide the consice way to create list \n",
    "# it consist of brackets containing an expression followed by for clause, zero then more for or if clause"
   ]
  },
  {
   "cell_type": "code",
   "execution_count": 7,
   "id": "a33df620",
   "metadata": {},
   "outputs": [],
   "source": [
    "lst1 = []\n",
    "def sqr_list(lis):\n",
    "    for i in lis:\n",
    "        lst1.append(i*i)\n",
    "    return lst1"
   ]
  },
  {
   "cell_type": "code",
   "execution_count": 8,
   "id": "6791bdab",
   "metadata": {},
   "outputs": [],
   "source": [
    "lis = [2,3,4,5,7,21,5,12]"
   ]
  },
  {
   "cell_type": "code",
   "execution_count": 9,
   "id": "cdf59f6b",
   "metadata": {},
   "outputs": [
    {
     "data": {
      "text/plain": [
       "[4, 9, 16, 25, 49, 441, 25, 144]"
      ]
     },
     "execution_count": 9,
     "metadata": {},
     "output_type": "execute_result"
    }
   ],
   "source": [
    "sqr_list(lis)"
   ]
  },
  {
   "cell_type": "code",
   "execution_count": 10,
   "id": "f0a43883",
   "metadata": {},
   "outputs": [
    {
     "data": {
      "text/plain": [
       "[4, 9, 16, 25, 49, 441, 25, 144]"
      ]
     },
     "execution_count": 10,
     "metadata": {},
     "output_type": "execute_result"
    }
   ],
   "source": [
    "lst1"
   ]
  },
  {
   "cell_type": "code",
   "execution_count": 12,
   "id": "c9efb342",
   "metadata": {},
   "outputs": [
    {
     "data": {
      "text/plain": [
       "[4, 9, 16, 25, 49, 441, 25, 144]"
      ]
     },
     "execution_count": 12,
     "metadata": {},
     "output_type": "execute_result"
    }
   ],
   "source": [
    "#list comrehension example\n",
    "[i*i for i in lis]"
   ]
  },
  {
   "cell_type": "code",
   "execution_count": 13,
   "id": "7fa629a9",
   "metadata": {},
   "outputs": [
    {
     "data": {
      "text/plain": [
       "[4, 16, 144]"
      ]
     },
     "execution_count": 13,
     "metadata": {},
     "output_type": "execute_result"
    }
   ],
   "source": [
    "[i*i for i in lis if i%2==0]"
   ]
  },
  {
   "cell_type": "code",
   "execution_count": null,
   "id": "27247631",
   "metadata": {},
   "outputs": [],
   "source": []
  }
 ],
 "metadata": {
  "kernelspec": {
   "display_name": "Python 3",
   "language": "python",
   "name": "python3"
  },
  "language_info": {
   "codemirror_mode": {
    "name": "ipython",
    "version": 3
   },
   "file_extension": ".py",
   "mimetype": "text/x-python",
   "name": "python",
   "nbconvert_exporter": "python",
   "pygments_lexer": "ipython3",
   "version": "3.8.8"
  }
 },
 "nbformat": 4,
 "nbformat_minor": 5
}
