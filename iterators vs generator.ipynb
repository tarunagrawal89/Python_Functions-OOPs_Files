{
 "cells": [
  {
   "cell_type": "code",
   "execution_count": 7,
   "id": "f689d080",
   "metadata": {},
   "outputs": [],
   "source": [
    "lst = [1,2,3,4,5,6,7,4,323,80]"
   ]
  },
  {
   "cell_type": "code",
   "execution_count": 8,
   "id": "5c02f22e",
   "metadata": {},
   "outputs": [
    {
     "name": "stdout",
     "output_type": "stream",
     "text": [
      "1\n",
      "2\n",
      "3\n",
      "4\n",
      "5\n",
      "6\n",
      "7\n",
      "4\n",
      "323\n",
      "80\n"
     ]
    }
   ],
   "source": [
    "#list is itterable\n",
    "for i in lst:\n",
    "    print(i)"
   ]
  },
  {
   "cell_type": "code",
   "execution_count": 10,
   "id": "3e9e787d",
   "metadata": {},
   "outputs": [
    {
     "data": {
      "text/plain": [
       "<list_iterator at 0x7fc88061aeb0>"
      ]
     },
     "execution_count": 10,
     "metadata": {},
     "output_type": "execute_result"
    }
   ],
   "source": [
    "lst1 =iter(lst)\n",
    "lst1"
   ]
  },
  {
   "cell_type": "code",
   "execution_count": 24,
   "id": "cdc108ef",
   "metadata": {},
   "outputs": [
    {
     "name": "stdout",
     "output_type": "stream",
     "text": [
      "itrator is empty\n"
     ]
    }
   ],
   "source": [
    "try:\n",
    "    print(next(lst1))\n",
    "except StopIteration:\n",
    "    print('itrator is empty')\n",
    "    "
   ]
  },
  {
   "cell_type": "code",
   "execution_count": 13,
   "id": "8722a719",
   "metadata": {},
   "outputs": [],
   "source": [
    "#generator\n",
    "def square(num):\n",
    "    for i in range(num):\n",
    "        return i*i\n",
    "    "
   ]
  },
  {
   "cell_type": "code",
   "execution_count": 2,
   "id": "4befb4bf",
   "metadata": {},
   "outputs": [
    {
     "data": {
      "text/plain": [
       "0"
      ]
     },
     "execution_count": 2,
     "metadata": {},
     "output_type": "execute_result"
    }
   ],
   "source": [
    "square(3)"
   ]
  },
  {
   "cell_type": "code",
   "execution_count": 39,
   "id": "d1b0fe9a",
   "metadata": {},
   "outputs": [],
   "source": [
    "# like that it will make entire function as itrator but it is a kind of generator\n",
    "# basically generator is used to create itrator\n",
    "def square(num):\n",
    "    for i in range(num):\n",
    "        yield i*i"
   ]
  },
  {
   "cell_type": "code",
   "execution_count": 40,
   "id": "c2775d9f",
   "metadata": {},
   "outputs": [
    {
     "data": {
      "text/plain": [
       "<generator object square at 0x7fc880660270>"
      ]
     },
     "execution_count": 40,
     "metadata": {},
     "output_type": "execute_result"
    }
   ],
   "source": [
    "square(3)"
   ]
  },
  {
   "cell_type": "code",
   "execution_count": 29,
   "id": "68e98325",
   "metadata": {},
   "outputs": [
    {
     "name": "stdout",
     "output_type": "stream",
     "text": [
      "0\n",
      "1\n",
      "4\n"
     ]
    }
   ],
   "source": [
    "for i in square(3):\n",
    "    print(i)"
   ]
  },
  {
   "cell_type": "code",
   "execution_count": 30,
   "id": "b9ede403",
   "metadata": {},
   "outputs": [],
   "source": [
    "a = square(3)"
   ]
  },
  {
   "cell_type": "code",
   "execution_count": 31,
   "id": "38bf5acc",
   "metadata": {},
   "outputs": [
    {
     "data": {
      "text/plain": [
       "<generator object square at 0x7fc880659350>"
      ]
     },
     "execution_count": 31,
     "metadata": {},
     "output_type": "execute_result"
    }
   ],
   "source": [
    "a"
   ]
  },
  {
   "cell_type": "code",
   "execution_count": 32,
   "id": "ce6e50b8",
   "metadata": {},
   "outputs": [
    {
     "data": {
      "text/plain": [
       "0"
      ]
     },
     "execution_count": 32,
     "metadata": {},
     "output_type": "execute_result"
    }
   ],
   "source": [
    "next(a)"
   ]
  },
  {
   "cell_type": "code",
   "execution_count": 33,
   "id": "4f2abaf5",
   "metadata": {},
   "outputs": [
    {
     "data": {
      "text/plain": [
       "1"
      ]
     },
     "execution_count": 33,
     "metadata": {},
     "output_type": "execute_result"
    }
   ],
   "source": [
    "next(a)"
   ]
  },
  {
   "cell_type": "code",
   "execution_count": 34,
   "id": "7fad1ca7",
   "metadata": {},
   "outputs": [
    {
     "data": {
      "text/plain": [
       "4"
      ]
     },
     "execution_count": 34,
     "metadata": {},
     "output_type": "execute_result"
    }
   ],
   "source": [
    "next(a)"
   ]
  },
  {
   "cell_type": "code",
   "execution_count": 43,
   "id": "eb1c3829",
   "metadata": {},
   "outputs": [],
   "source": [
    "##so basically we can itrate through generator \n",
    "## difference b/w itrator and generator to create itrator we use iter() but to create generator we use fun\n",
    "## along with yield keyword and it saves the local variable \n",
    "## generator help us to write fast and compact code\n",
    "## itrator is much more memory efficient"
   ]
  },
  {
   "cell_type": "code",
   "execution_count": 45,
   "id": "139bbcac",
   "metadata": {},
   "outputs": [],
   "source": [
    "import types, collections"
   ]
  },
  {
   "cell_type": "code",
   "execution_count": null,
   "id": "07688794",
   "metadata": {},
   "outputs": [],
   "source": [
    "is"
   ]
  }
 ],
 "metadata": {
  "kernelspec": {
   "display_name": "Python 3",
   "language": "python",
   "name": "python3"
  },
  "language_info": {
   "codemirror_mode": {
    "name": "ipython",
    "version": 3
   },
   "file_extension": ".py",
   "mimetype": "text/x-python",
   "name": "python",
   "nbconvert_exporter": "python",
   "pygments_lexer": "ipython3",
   "version": "3.8.8"
  }
 },
 "nbformat": 4,
 "nbformat_minor": 5
}
