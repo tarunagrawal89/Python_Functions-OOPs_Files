{
 "cells": [
  {
   "cell_type": "code",
   "execution_count": 6,
   "id": "4b07a664",
   "metadata": {},
   "outputs": [],
   "source": [
    "def even_or_odd(num):\n",
    "    if num%2==0:\n",
    "        return 'the no is even'\n",
    "    else:\n",
    "        return 'odd'\n",
    "    "
   ]
  },
  {
   "cell_type": "code",
   "execution_count": 8,
   "id": "9ddd41e0",
   "metadata": {},
   "outputs": [
    {
     "data": {
      "text/plain": [
       "'the no is even'"
      ]
     },
     "execution_count": 8,
     "metadata": {},
     "output_type": "execute_result"
    }
   ],
   "source": [
    "even_or_odd(24)"
   ]
  },
  {
   "cell_type": "code",
   "execution_count": 9,
   "id": "3f0b2715",
   "metadata": {},
   "outputs": [],
   "source": [
    "lis = [1,2,3,4,5,6,7,8,9,34,45,67,78]"
   ]
  },
  {
   "cell_type": "code",
   "execution_count": 10,
   "id": "bb7daa50",
   "metadata": {},
   "outputs": [
    {
     "data": {
      "text/plain": [
       "<map at 0x7fb6b13f3d90>"
      ]
     },
     "execution_count": 10,
     "metadata": {},
     "output_type": "execute_result"
    }
   ],
   "source": [
    "map(even_or_odd, lis)"
   ]
  },
  {
   "cell_type": "code",
   "execution_count": 11,
   "id": "45e9132a",
   "metadata": {},
   "outputs": [
    {
     "data": {
      "text/plain": [
       "['odd',\n",
       " 'the no is even',\n",
       " 'odd',\n",
       " 'the no is even',\n",
       " 'odd',\n",
       " 'the no is even',\n",
       " 'odd',\n",
       " 'the no is even',\n",
       " 'odd',\n",
       " 'the no is even',\n",
       " 'odd',\n",
       " 'odd',\n",
       " 'the no is even']"
      ]
     },
     "execution_count": 11,
     "metadata": {},
     "output_type": "execute_result"
    }
   ],
   "source": [
    "#another way is to iterate through all list element by putting for loop but it will be lengthy process so use\n",
    "list(map(even_or_odd, lis))"
   ]
  },
  {
   "cell_type": "code",
   "execution_count": null,
   "id": "f028805c",
   "metadata": {},
   "outputs": [],
   "source": []
  }
 ],
 "metadata": {
  "kernelspec": {
   "display_name": "Python 3",
   "language": "python",
   "name": "python3"
  },
  "language_info": {
   "codemirror_mode": {
    "name": "ipython",
    "version": 3
   },
   "file_extension": ".py",
   "mimetype": "text/x-python",
   "name": "python",
   "nbconvert_exporter": "python",
   "pygments_lexer": "ipython3",
   "version": "3.8.8"
  }
 },
 "nbformat": 4,
 "nbformat_minor": 5
}
