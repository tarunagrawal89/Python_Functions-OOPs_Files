{
 "cells": [
  {
   "cell_type": "code",
   "execution_count": 1,
   "id": "b6ff74b8",
   "metadata": {},
   "outputs": [
    {
     "ename": "NameError",
     "evalue": "name 'b' is not defined",
     "output_type": "error",
     "traceback": [
      "\u001b[0;31m---------------------------------------------------------------------------\u001b[0m",
      "\u001b[0;31mNameError\u001b[0m                                 Traceback (most recent call last)",
      "\u001b[0;32m<ipython-input-1-488068fe1e94>\u001b[0m in \u001b[0;36m<module>\u001b[0;34m\u001b[0m\n\u001b[0;32m----> 1\u001b[0;31m \u001b[0ma\u001b[0m\u001b[0;34m=\u001b[0m\u001b[0mb\u001b[0m\u001b[0;34m\u001b[0m\u001b[0;34m\u001b[0m\u001b[0m\n\u001b[0m",
      "\u001b[0;31mNameError\u001b[0m: name 'b' is not defined"
     ]
    }
   ],
   "source": [
    "a=b"
   ]
  },
  {
   "cell_type": "code",
   "execution_count": 2,
   "id": "d1ffd16c",
   "metadata": {},
   "outputs": [
    {
     "name": "stdout",
     "output_type": "stream",
     "text": [
      "some error may have occoured\n"
     ]
    }
   ],
   "source": [
    "try:\n",
    "    a=b\n",
    "except:\n",
    "    print('some error may have occoured')"
   ]
  },
  {
   "cell_type": "code",
   "execution_count": 3,
   "id": "ab3f34b3",
   "metadata": {},
   "outputs": [],
   "source": [
    "# in place of NameError we coustomize our error message and print something else"
   ]
  },
  {
   "cell_type": "code",
   "execution_count": 5,
   "id": "0c90775d",
   "metadata": {},
   "outputs": [
    {
     "name": "stdout",
     "output_type": "stream",
     "text": [
      "name 'b' is not defined\n"
     ]
    }
   ],
   "source": [
    "# By using this exception class we can print the exact error message what we got through code\n",
    "try:\n",
    "    a=b\n",
    "except Exception as ex:\n",
    "    print(ex)"
   ]
  },
  {
   "cell_type": "code",
   "execution_count": 6,
   "id": "4a6720d2",
   "metadata": {},
   "outputs": [
    {
     "name": "stdout",
     "output_type": "stream",
     "text": [
      "variable is not definced\n"
     ]
    }
   ],
   "source": [
    "try:\n",
    "    a=b\n",
    "except NameError:\n",
    "    print('variable is not definced')\n",
    "except Exception as ex:\n",
    "    print(ex)"
   ]
  },
  {
   "cell_type": "code",
   "execution_count": 7,
   "id": "fff79b25",
   "metadata": {},
   "outputs": [
    {
     "name": "stdout",
     "output_type": "stream",
     "text": [
      "unsupported operand type(s) for +: 'int' and 'str'\n"
     ]
    }
   ],
   "source": [
    "try:\n",
    "    a=1\n",
    "    b='s'\n",
    "    c=a+b\n",
    "except NameError:\n",
    "    print('variable is not definced')\n",
    "except Exception as ex:\n",
    "    print(ex)"
   ]
  },
  {
   "cell_type": "code",
   "execution_count": 8,
   "id": "f706e2a3",
   "metadata": {},
   "outputs": [
    {
     "ename": "TypeError",
     "evalue": "unsupported operand type(s) for +: 'int' and 'str'",
     "output_type": "error",
     "traceback": [
      "\u001b[0;31m---------------------------------------------------------------------------\u001b[0m",
      "\u001b[0;31mTypeError\u001b[0m                                 Traceback (most recent call last)",
      "\u001b[0;32m<ipython-input-8-b5351790d4cc>\u001b[0m in \u001b[0;36m<module>\u001b[0;34m\u001b[0m\n\u001b[1;32m      1\u001b[0m \u001b[0ma\u001b[0m\u001b[0;34m=\u001b[0m\u001b[0;36m1\u001b[0m\u001b[0;34m\u001b[0m\u001b[0;34m\u001b[0m\u001b[0m\n\u001b[1;32m      2\u001b[0m \u001b[0mb\u001b[0m\u001b[0;34m=\u001b[0m\u001b[0;34m's'\u001b[0m\u001b[0;34m\u001b[0m\u001b[0;34m\u001b[0m\u001b[0m\n\u001b[0;32m----> 3\u001b[0;31m \u001b[0mc\u001b[0m\u001b[0;34m=\u001b[0m\u001b[0ma\u001b[0m\u001b[0;34m+\u001b[0m\u001b[0mb\u001b[0m\u001b[0;34m\u001b[0m\u001b[0;34m\u001b[0m\u001b[0m\n\u001b[0m",
      "\u001b[0;31mTypeError\u001b[0m: unsupported operand type(s) for +: 'int' and 'str'"
     ]
    }
   ],
   "source": [
    "a=1\n",
    "b='s'\n",
    "c=a+b"
   ]
  },
  {
   "cell_type": "code",
   "execution_count": 13,
   "id": "cdf5bede",
   "metadata": {},
   "outputs": [
    {
     "name": "stdout",
     "output_type": "stream",
     "text": [
      "please enter similar datatype\n"
     ]
    }
   ],
   "source": [
    "try:\n",
    "    a=1\n",
    "    b='s'\n",
    "    c=a+b\n",
    "    c= d\n",
    "    \n",
    "except NameError:\n",
    "    print('variable is not definced')\n",
    "except TypeError:\n",
    "    print('please enter similar datatype')\n",
    "except Exception as ex:\n",
    "    print(ex)"
   ]
  },
  {
   "cell_type": "code",
   "execution_count": 14,
   "id": "d4f78cc1",
   "metadata": {},
   "outputs": [],
   "source": [
    "#so it means all error are derived from parent class- Exception and this should be at last\n",
    "# if we handle the error by particular type then we have to put it before exception class \n",
    "# otherwise exception class will give auto defined error message itself we can't costomize it."
   ]
  },
  {
   "cell_type": "code",
   "execution_count": 15,
   "id": "5ad878d7",
   "metadata": {},
   "outputs": [
    {
     "name": "stdout",
     "output_type": "stream",
     "text": [
      "variable is not definced\n"
     ]
    }
   ],
   "source": [
    "try:\n",
    "    a=1\n",
    "    b='s'\n",
    "    c= d\n",
    "    c=a+b\n",
    "    \n",
    "except NameError:\n",
    "    print('variable is not definced')\n",
    "except TypeError:\n",
    "    print('please enter similar datatype')\n",
    "except Exception as ex:\n",
    "    print(ex)"
   ]
  },
  {
   "cell_type": "code",
   "execution_count": 16,
   "id": "9f620dc1",
   "metadata": {},
   "outputs": [],
   "source": [
    "# whichever error will execute first it will show that msg."
   ]
  },
  {
   "cell_type": "code",
   "execution_count": 18,
   "id": "83ac0360",
   "metadata": {},
   "outputs": [
    {
     "name": "stdout",
     "output_type": "stream",
     "text": [
      "enter first no15\n",
      "enter second no0\n",
      "division by zero\n"
     ]
    }
   ],
   "source": [
    "try:\n",
    "    a=int(input('enter first no'))\n",
    "    b=int(input('enter second no'))\n",
    "    c= a+b\n",
    "    d= a/b\n",
    "    e= a*b\n",
    "    print (c)\n",
    "    print(d)\n",
    "    print(e)\n",
    "    \n",
    "except NameError:\n",
    "    print('variable is not definced')\n",
    "except TypeError:\n",
    "    print('please enter similar datatype')\n",
    "except Exception as ex:\n",
    "    print(ex)"
   ]
  },
  {
   "cell_type": "code",
   "execution_count": 24,
   "id": "2c51f3c7",
   "metadata": {},
   "outputs": [],
   "source": [
    "# how we get this msg division by zero - it comes due to exception class which is parent class"
   ]
  },
  {
   "cell_type": "code",
   "execution_count": 20,
   "id": "68aed299",
   "metadata": {},
   "outputs": [
    {
     "ename": "ZeroDivisionError",
     "evalue": "division by zero",
     "output_type": "error",
     "traceback": [
      "\u001b[0;31m---------------------------------------------------------------------------\u001b[0m",
      "\u001b[0;31mZeroDivisionError\u001b[0m                         Traceback (most recent call last)",
      "\u001b[0;32m<ipython-input-20-dd97ac5c07e9>\u001b[0m in \u001b[0;36m<module>\u001b[0;34m\u001b[0m\n\u001b[0;32m----> 1\u001b[0;31m \u001b[0;36m15\u001b[0m\u001b[0;34m/\u001b[0m\u001b[0;36m0\u001b[0m\u001b[0;34m\u001b[0m\u001b[0;34m\u001b[0m\u001b[0m\n\u001b[0m",
      "\u001b[0;31mZeroDivisionError\u001b[0m: division by zero"
     ]
    }
   ],
   "source": [
    "15/0"
   ]
  },
  {
   "cell_type": "code",
   "execution_count": 21,
   "id": "2c13d706",
   "metadata": {},
   "outputs": [],
   "source": [
    "# we haven't handlled zerodivision error above so it by default showing error msg according to exception class"
   ]
  },
  {
   "cell_type": "code",
   "execution_count": 23,
   "id": "2e3998ab",
   "metadata": {},
   "outputs": [
    {
     "name": "stdout",
     "output_type": "stream",
     "text": [
      "enter first no15\n",
      "enter second no0\n",
      "please enter value greater than zero\n"
     ]
    }
   ],
   "source": [
    "try:\n",
    "    a=int(input('enter first no'))\n",
    "    b=int(input('enter second no'))\n",
    "    c= a+b\n",
    "    d= a/b\n",
    "    e= a*b\n",
    "    print (c)\n",
    "    print(d)\n",
    "    print(e)\n",
    "    \n",
    "except NameError:\n",
    "    print('variable is not definced')\n",
    "except ZeroDivisionError:\n",
    "    print('please enter value greater than zero')\n",
    "except TypeError:\n",
    "    print('please enter similar datatype')\n",
    "except Exception as ex:\n",
    "    print(ex)"
   ]
  },
  {
   "cell_type": "code",
   "execution_count": 25,
   "id": "42670530",
   "metadata": {},
   "outputs": [],
   "source": [
    "# name, zero division, type error these all are child class this should always come before exception class"
   ]
  },
  {
   "cell_type": "code",
   "execution_count": 28,
   "id": "9fd4ddea",
   "metadata": {},
   "outputs": [
    {
     "name": "stdout",
     "output_type": "stream",
     "text": [
      "enter first no15\n",
      "enter second no4\n",
      "19\n",
      "3.75\n",
      "60\n"
     ]
    }
   ],
   "source": [
    "# try else block - if no error occoured it excecute else operation.\n",
    "try:\n",
    "    a=int(input('enter first no'))\n",
    "    b=int(input('enter second no'))\n",
    "    c= a+b\n",
    "    d= a/b\n",
    "    e= a*b\n",
    "    \n",
    "    \n",
    "except NameError:\n",
    "    print('variable is not definced')\n",
    "except ZeroDivisionError:\n",
    "    print('please enter value greater than zero')\n",
    "except TypeError:\n",
    "    print('please enter similar datatype')\n",
    "except Exception as ex:\n",
    "    print(ex)\n",
    "\n",
    "else:\n",
    "    print (c)\n",
    "    print(d)\n",
    "    print(e)"
   ]
  },
  {
   "cell_type": "code",
   "execution_count": 34,
   "id": "e539b7ab",
   "metadata": {},
   "outputs": [
    {
     "name": "stdout",
     "output_type": "stream",
     "text": [
      "enter first no12\n",
      "enter second no0\n",
      "please enter value greater than zero\n",
      "execution is done\n"
     ]
    }
   ],
   "source": [
    "# try else finally block - if no error occoured it excecute else operation.\n",
    "try:\n",
    "    a=int(input('enter first no'))\n",
    "    b=int(input('enter second no'))\n",
    "    c= a+b\n",
    "    d= a/b\n",
    "    e= a*b\n",
    "    \n",
    "    \n",
    "except NameError:\n",
    "    print('variable is not definced')\n",
    "except ZeroDivisionError:\n",
    "    print('please enter value greater than zero')\n",
    "except TypeError:\n",
    "    print('please enter similar datatype')\n",
    "except Exception as ex:\n",
    "    print(ex)\n",
    "\n",
    "else:\n",
    "    print (c)\n",
    "    print(d)\n",
    "    print(e)\n",
    "\n",
    "finally:\n",
    "    #print (d)\n",
    "    print('execution is done')\n",
    "    "
   ]
  },
  {
   "cell_type": "code",
   "execution_count": 35,
   "id": "a769c64c",
   "metadata": {},
   "outputs": [],
   "source": [
    "# so basic diff b/w try else & try else finally block is if any exception occoured else block doesn't execute\n",
    "# it directly show some error msg and come out but in finally it anyhow execute it even though error occoured."
   ]
  },
  {
   "cell_type": "code",
   "execution_count": null,
   "id": "2d9005e2",
   "metadata": {},
   "outputs": [],
   "source": []
  }
 ],
 "metadata": {
  "kernelspec": {
   "display_name": "Python 3",
   "language": "python",
   "name": "python3"
  },
  "language_info": {
   "codemirror_mode": {
    "name": "ipython",
    "version": 3
   },
   "file_extension": ".py",
   "mimetype": "text/x-python",
   "name": "python",
   "nbconvert_exporter": "python",
   "pygments_lexer": "ipython3",
   "version": "3.8.8"
  }
 },
 "nbformat": 4,
 "nbformat_minor": 5
}
