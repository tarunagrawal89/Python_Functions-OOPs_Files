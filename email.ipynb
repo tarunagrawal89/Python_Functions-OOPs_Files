{
 "cells": [
  {
   "cell_type": "code",
   "execution_count": 22,
   "id": "2d7c7302",
   "metadata": {},
   "outputs": [],
   "source": [
    "import smtplib"
   ]
  },
  {
   "cell_type": "code",
   "execution_count": 23,
   "id": "3b2e7e5b",
   "metadata": {},
   "outputs": [],
   "source": [
    "smtp_object= smtplib.SMTP('smtp.gmail.com',587)"
   ]
  },
  {
   "cell_type": "code",
   "execution_count": 24,
   "id": "8c2a9752",
   "metadata": {},
   "outputs": [
    {
     "data": {
      "text/plain": [
       "(250,\n",
       " b'smtp.gmail.com at your service, [103.76.208.130]\\nSIZE 35882577\\n8BITMIME\\nSTARTTLS\\nENHANCEDSTATUSCODES\\nPIPELINING\\nSMTPUTF8')"
      ]
     },
     "execution_count": 24,
     "metadata": {},
     "output_type": "execute_result"
    }
   ],
   "source": [
    "smtp_object.ehlo()"
   ]
  },
  {
   "cell_type": "code",
   "execution_count": 25,
   "id": "b0f98fb7",
   "metadata": {},
   "outputs": [
    {
     "data": {
      "text/plain": [
       "(220, b'2.0.0 Ready to start TLS')"
      ]
     },
     "execution_count": 25,
     "metadata": {},
     "output_type": "execute_result"
    }
   ],
   "source": [
    "smtp_object.starttls()"
   ]
  },
  {
   "cell_type": "code",
   "execution_count": 26,
   "id": "02fe2c1f",
   "metadata": {},
   "outputs": [],
   "source": [
    "import getpass"
   ]
  },
  {
   "cell_type": "code",
   "execution_count": 27,
   "id": "96878c1b",
   "metadata": {},
   "outputs": [
    {
     "name": "stdout",
     "output_type": "stream",
     "text": [
      "password is:········\n"
     ]
    }
   ],
   "source": [
    "password = getpass.getpass('password is:')"
   ]
  },
  {
   "cell_type": "code",
   "execution_count": 32,
   "id": "0e45e3b0",
   "metadata": {},
   "outputs": [
    {
     "name": "stdout",
     "output_type": "stream",
     "text": [
      "enter from EMail ID:agrawaltarun4u\n",
      "enter To email ID:er.tarun.agrawal@gmail.com\n",
      "········\n"
     ]
    },
    {
     "data": {
      "text/plain": [
       "(503, b'5.5.1 MAIL first. q5sm7919299pjo.7 - gsmtp')"
      ]
     },
     "execution_count": 32,
     "metadata": {},
     "output_type": "execute_result"
    }
   ],
   "source": [
    "from_email = input('enter from EMail ID:')\n",
    "to_email = input('enter To email ID:')\n",
    "password = getpass.getpass()\n",
    "smtp_object.login(from_email,password)\n"
   ]
  },
  {
   "cell_type": "code",
   "execution_count": 33,
   "id": "d14c6203",
   "metadata": {},
   "outputs": [
    {
     "name": "stdout",
     "output_type": "stream",
     "text": [
      "enter subject line:hi sub\n",
      "enter mail body text:hi tet\n"
     ]
    }
   ],
   "source": [
    "from_add = from_email\n",
    "to_add = to_email\n",
    "subject = input(\"enter subject line:\")\n",
    "message = input('enter mail body text:')\n",
    "msg = 'subject :' + subject +'\\n'+ message\n"
   ]
  },
  {
   "cell_type": "code",
   "execution_count": 34,
   "id": "6848d245",
   "metadata": {},
   "outputs": [
    {
     "data": {
      "text/plain": [
       "{}"
      ]
     },
     "execution_count": 34,
     "metadata": {},
     "output_type": "execute_result"
    }
   ],
   "source": [
    "smtp_object.sendmail(from_add, to_add, msg)"
   ]
  },
  {
   "cell_type": "code",
   "execution_count": 35,
   "id": "13f6492d",
   "metadata": {},
   "outputs": [],
   "source": [
    "smtp_object.close()"
   ]
  },
  {
   "cell_type": "code",
   "execution_count": 89,
   "id": "0a85d4e8",
   "metadata": {},
   "outputs": [],
   "source": [
    "import imaplib"
   ]
  },
  {
   "cell_type": "code",
   "execution_count": 90,
   "id": "c9fe7f9e",
   "metadata": {},
   "outputs": [],
   "source": [
    "demo = imaplib.IMAP4_SSL('imap.gmail.com')"
   ]
  },
  {
   "cell_type": "code",
   "execution_count": 91,
   "id": "25f8caf0",
   "metadata": {},
   "outputs": [
    {
     "name": "stdout",
     "output_type": "stream",
     "text": [
      "email id:er.tarun.agrawal\n",
      "password:········\n"
     ]
    }
   ],
   "source": [
    "email = input('email id:')\n",
    "password = getpass.getpass('password:')\n"
   ]
  },
  {
   "cell_type": "code",
   "execution_count": 92,
   "id": "b292eeaf",
   "metadata": {},
   "outputs": [
    {
     "data": {
      "text/plain": [
       "('OK', [b'er.tarun.agrawal@gmail.com authenticated (Success)'])"
      ]
     },
     "execution_count": 92,
     "metadata": {},
     "output_type": "execute_result"
    }
   ],
   "source": [
    "demo.login(email,password)"
   ]
  },
  {
   "cell_type": "code",
   "execution_count": 94,
   "id": "e1e95b69",
   "metadata": {},
   "outputs": [],
   "source": [
    "#demo.list()"
   ]
  },
  {
   "cell_type": "code",
   "execution_count": 120,
   "id": "cb7c2cbc",
   "metadata": {},
   "outputs": [],
   "source": [
    "typ1, data1 = demo.select('INBOX')"
   ]
  },
  {
   "cell_type": "code",
   "execution_count": 121,
   "id": "15a2c3d1",
   "metadata": {},
   "outputs": [
    {
     "data": {
      "text/plain": [
       "'OK'"
      ]
     },
     "execution_count": 121,
     "metadata": {},
     "output_type": "execute_result"
    }
   ],
   "source": [
    "typ1"
   ]
  },
  {
   "cell_type": "code",
   "execution_count": 122,
   "id": "d6fa1dde",
   "metadata": {},
   "outputs": [
    {
     "data": {
      "text/plain": [
       "[b'71803']"
      ]
     },
     "execution_count": 122,
     "metadata": {},
     "output_type": "execute_result"
    }
   ],
   "source": [
    "data1"
   ]
  },
  {
   "cell_type": "code",
   "execution_count": 123,
   "id": "ab133687",
   "metadata": {},
   "outputs": [],
   "source": [
    "typ, data = demo.search(None,'SUBJECT \"hi sub\"')"
   ]
  },
  {
   "cell_type": "code",
   "execution_count": 124,
   "id": "37074751",
   "metadata": {},
   "outputs": [
    {
     "data": {
      "text/plain": [
       "'OK'"
      ]
     },
     "execution_count": 124,
     "metadata": {},
     "output_type": "execute_result"
    }
   ],
   "source": [
    "typ"
   ]
  },
  {
   "cell_type": "code",
   "execution_count": 125,
   "id": "d1c16c04",
   "metadata": {},
   "outputs": [
    {
     "data": {
      "text/plain": [
       "b'71799'"
      ]
     },
     "execution_count": 125,
     "metadata": {},
     "output_type": "execute_result"
    }
   ],
   "source": [
    "data[0]"
   ]
  },
  {
   "cell_type": "code",
   "execution_count": 112,
   "id": "b2bcd67c",
   "metadata": {},
   "outputs": [],
   "source": [
    "email_id= data[0]"
   ]
  },
  {
   "cell_type": "code",
   "execution_count": 126,
   "id": "75822ecc",
   "metadata": {},
   "outputs": [],
   "source": [
    "result, email_data = demo.fetch(email_id, '(RFC822)')"
   ]
  },
  {
   "cell_type": "code",
   "execution_count": 133,
   "id": "a9b35bf2",
   "metadata": {},
   "outputs": [
    {
     "data": {
      "text/plain": [
       "'OK'"
      ]
     },
     "execution_count": 133,
     "metadata": {},
     "output_type": "execute_result"
    }
   ],
   "source": [
    "result"
   ]
  },
  {
   "cell_type": "code",
   "execution_count": 134,
   "id": "520e46e6",
   "metadata": {},
   "outputs": [],
   "source": [
    "raw_email=email_data[0][1].decode('utf-8')"
   ]
  },
  {
   "cell_type": "code",
   "execution_count": 135,
   "id": "6772d101",
   "metadata": {},
   "outputs": [],
   "source": [
    "import email"
   ]
  },
  {
   "cell_type": "code",
   "execution_count": 136,
   "id": "637a0787",
   "metadata": {},
   "outputs": [],
   "source": [
    "mail_msg= email.message_from_string(raw_email)"
   ]
  },
  {
   "cell_type": "code",
   "execution_count": 137,
   "id": "11c31a13",
   "metadata": {},
   "outputs": [
    {
     "data": {
      "text/plain": [
       "<email.message.Message at 0x6752d00>"
      ]
     },
     "execution_count": 137,
     "metadata": {},
     "output_type": "execute_result"
    }
   ],
   "source": [
    "mail_msg"
   ]
  },
  {
   "cell_type": "code",
   "execution_count": 138,
   "id": "2dd4c2aa",
   "metadata": {},
   "outputs": [
    {
     "name": "stdout",
     "output_type": "stream",
     "text": [
      "b'subject :hi sub\\r\\nX-Antivirus: Avast (VPS 210801-4, 01-08-2021), Inbound message\\r\\nX-Antivirus-Status: Clean\\r\\n\\r\\nhi tet\\r\\nX-Antivirus: Avast (VPS 210801-4, 01-08-2021), Outbound message\\r\\nX-Antivirus-Status: Clean\\r\\n'\n"
     ]
    }
   ],
   "source": [
    "for part in mail_msg.walk():\n",
    "    if part.get_content_type()== 'text/plain':\n",
    "        body= part.get_payload(decode=True)\n",
    "        print(body)"
   ]
  },
  {
   "cell_type": "code",
   "execution_count": null,
   "id": "cedbaadf",
   "metadata": {},
   "outputs": [],
   "source": []
  }
 ],
 "metadata": {
  "kernelspec": {
   "display_name": "Python 3",
   "language": "python",
   "name": "python3"
  },
  "language_info": {
   "codemirror_mode": {
    "name": "ipython",
    "version": 3
   },
   "file_extension": ".py",
   "mimetype": "text/x-python",
   "name": "python",
   "nbconvert_exporter": "python",
   "pygments_lexer": "ipython3",
   "version": "3.8.8"
  }
 },
 "nbformat": 4,
 "nbformat_minor": 5
}
