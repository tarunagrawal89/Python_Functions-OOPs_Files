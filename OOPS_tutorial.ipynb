{
 "cells": [
  {
   "cell_type": "code",
   "execution_count": 3,
   "id": "932ed3fc",
   "metadata": {},
   "outputs": [],
   "source": [
    "class Car:\n",
    "    pass"
   ]
  },
  {
   "cell_type": "code",
   "execution_count": 6,
   "id": "201e904c",
   "metadata": {},
   "outputs": [],
   "source": [
    "car1 = Car()"
   ]
  },
  {
   "cell_type": "code",
   "execution_count": 7,
   "id": "68b47ac7",
   "metadata": {},
   "outputs": [
    {
     "data": {
      "text/plain": [
       "<__main__.Car at 0x7f8529741d60>"
      ]
     },
     "execution_count": 7,
     "metadata": {},
     "output_type": "execute_result"
    }
   ],
   "source": [
    "car1"
   ]
  },
  {
   "cell_type": "code",
   "execution_count": 8,
   "id": "453da6cb",
   "metadata": {},
   "outputs": [],
   "source": [
    "car1.windows = 5\n",
    "car1.door = 4"
   ]
  },
  {
   "cell_type": "code",
   "execution_count": 9,
   "id": "fb75ac64",
   "metadata": {},
   "outputs": [
    {
     "name": "stdout",
     "output_type": "stream",
     "text": [
      "5\n"
     ]
    }
   ],
   "source": [
    "print(car1.windows)"
   ]
  },
  {
   "cell_type": "code",
   "execution_count": 10,
   "id": "2263d2df",
   "metadata": {},
   "outputs": [],
   "source": [
    "car2 = Car()"
   ]
  },
  {
   "cell_type": "code",
   "execution_count": 11,
   "id": "68372f67",
   "metadata": {},
   "outputs": [],
   "source": [
    "car2.windows = 2"
   ]
  },
  {
   "cell_type": "code",
   "execution_count": 12,
   "id": "57f484d3",
   "metadata": {},
   "outputs": [
    {
     "name": "stdout",
     "output_type": "stream",
     "text": [
      "2\n"
     ]
    }
   ],
   "source": [
    "print(car2.windows)"
   ]
  },
  {
   "cell_type": "code",
   "execution_count": 13,
   "id": "db9d381d",
   "metadata": {},
   "outputs": [],
   "source": [
    "class Car:\n",
    "    def __init__(self,window,door,engine_type):\n",
    "        self.windows = window\n",
    "        self.doors= door\n",
    "        self.car_type = engine_type\n",
    "    def self_drive(self):\n",
    "        print ('this is {} type car'.format(self.car_type))"
   ]
  },
  {
   "cell_type": "code",
   "execution_count": 15,
   "id": "9ca13616",
   "metadata": {},
   "outputs": [],
   "source": [
    "car1 = Car(4,5,'petrol')"
   ]
  },
  {
   "cell_type": "code",
   "execution_count": 16,
   "id": "1a3787ab",
   "metadata": {},
   "outputs": [
    {
     "data": {
      "text/plain": [
       "5"
      ]
     },
     "execution_count": 16,
     "metadata": {},
     "output_type": "execute_result"
    }
   ],
   "source": [
    "car1.doors"
   ]
  },
  {
   "cell_type": "code",
   "execution_count": 17,
   "id": "e4dd455d",
   "metadata": {},
   "outputs": [
    {
     "data": {
      "text/plain": [
       "'petrol'"
      ]
     },
     "execution_count": 17,
     "metadata": {},
     "output_type": "execute_result"
    }
   ],
   "source": [
    "car1.car_type"
   ]
  },
  {
   "cell_type": "code",
   "execution_count": 18,
   "id": "79651491",
   "metadata": {},
   "outputs": [
    {
     "data": {
      "text/plain": [
       "<bound method Car.self_drive of <__main__.Car object at 0x7f8529c3f370>>"
      ]
     },
     "execution_count": 18,
     "metadata": {},
     "output_type": "execute_result"
    }
   ],
   "source": [
    "car1.self_drive"
   ]
  },
  {
   "cell_type": "code",
   "execution_count": 19,
   "id": "a550403e",
   "metadata": {},
   "outputs": [
    {
     "name": "stdout",
     "output_type": "stream",
     "text": [
      "this is petrol type car\n"
     ]
    }
   ],
   "source": [
    "car1.self_drive()"
   ]
  },
  {
   "cell_type": "code",
   "execution_count": 44,
   "id": "a9f0fd5d",
   "metadata": {},
   "outputs": [],
   "source": [
    "# now we will see inheritance\n",
    "class Car:\n",
    "    def __init__(self,window,door,engine_type):\n",
    "        self.windows = window\n",
    "        self.doors= door\n",
    "        self.car_type = engine_type\n",
    "    def self_drive(self):\n",
    "        print ('this is {} type car'.format(self.car_type))"
   ]
  },
  {
   "cell_type": "code",
   "execution_count": 21,
   "id": "7938e52f",
   "metadata": {},
   "outputs": [],
   "source": [
    "car1 = Car(4,5,'petrol')"
   ]
  },
  {
   "cell_type": "code",
   "execution_count": 22,
   "id": "c970a38f",
   "metadata": {},
   "outputs": [
    {
     "data": {
      "text/plain": [
       "'petrol'"
      ]
     },
     "execution_count": 22,
     "metadata": {},
     "output_type": "execute_result"
    }
   ],
   "source": [
    "car1.car_type"
   ]
  },
  {
   "cell_type": "code",
   "execution_count": 24,
   "id": "5fd4b5c3",
   "metadata": {},
   "outputs": [
    {
     "name": "stdout",
     "output_type": "stream",
     "text": [
      "this is petrol type car\n"
     ]
    }
   ],
   "source": [
    "car1.self_drive()"
   ]
  },
  {
   "cell_type": "code",
   "execution_count": 56,
   "id": "dd5a8945",
   "metadata": {},
   "outputs": [],
   "source": [
    "class Audi(Car):\n",
    "    def __init__(self,window,door,engine_type,ai):\n",
    "        super().__init__(window,door,engine_type)\n",
    "        self.feature = ai\n",
    "    def self_drive(self):\n",
    "        print('i am driving audi now')\n"
   ]
  },
  {
   "cell_type": "code",
   "execution_count": 61,
   "id": "caa728da",
   "metadata": {},
   "outputs": [],
   "source": [
    "q7 = Audi(6,8,'diesel','yes')"
   ]
  },
  {
   "cell_type": "code",
   "execution_count": 62,
   "id": "11a2ad8a",
   "metadata": {},
   "outputs": [
    {
     "data": {
      "text/plain": [
       "'yes'"
      ]
     },
     "execution_count": 62,
     "metadata": {},
     "output_type": "execute_result"
    }
   ],
   "source": [
    "q7.feature"
   ]
  },
  {
   "cell_type": "code",
   "execution_count": 63,
   "id": "d6cf7e34",
   "metadata": {},
   "outputs": [
    {
     "name": "stdout",
     "output_type": "stream",
     "text": [
      "i am driving audi now\n"
     ]
    }
   ],
   "source": [
    "q7.self_drive()"
   ]
  },
  {
   "cell_type": "code",
   "execution_count": 64,
   "id": "6a2f2d1e",
   "metadata": {},
   "outputs": [
    {
     "data": {
      "text/plain": [
       "8"
      ]
     },
     "execution_count": 64,
     "metadata": {},
     "output_type": "execute_result"
    }
   ],
   "source": [
    "q7.doors"
   ]
  },
  {
   "cell_type": "code",
   "execution_count": 65,
   "id": "926bad78",
   "metadata": {},
   "outputs": [
    {
     "data": {
      "text/plain": [
       "5"
      ]
     },
     "execution_count": 65,
     "metadata": {},
     "output_type": "execute_result"
    }
   ],
   "source": [
    "car1.doors"
   ]
  },
  {
   "cell_type": "code",
   "execution_count": 66,
   "id": "b3056653",
   "metadata": {},
   "outputs": [
    {
     "data": {
      "text/plain": [
       "'diesel'"
      ]
     },
     "execution_count": 66,
     "metadata": {},
     "output_type": "execute_result"
    }
   ],
   "source": [
    "q7.car_type"
   ]
  },
  {
   "cell_type": "code",
   "execution_count": 69,
   "id": "540c46bb",
   "metadata": {},
   "outputs": [
    {
     "name": "stdout",
     "output_type": "stream",
     "text": [
      "i am driving audi now\n"
     ]
    }
   ],
   "source": [
    "q7.self_drive()"
   ]
  },
  {
   "cell_type": "code",
   "execution_count": 71,
   "id": "346dd301",
   "metadata": {},
   "outputs": [],
   "source": [
    "# now we see magic method in class \n",
    "class Car:\n",
    "    def __init__(self,window,door,engine_type):\n",
    "        self.windows = window\n",
    "        self.doors= door\n",
    "        self.car_type = engine_type\n",
    "    def self_drive(self):\n",
    "        print ('this is {} type car'.format(self.car_type))"
   ]
  },
  {
   "cell_type": "code",
   "execution_count": 72,
   "id": "2bbc9b03",
   "metadata": {},
   "outputs": [],
   "source": [
    "c = Car(4,5,'petrol')"
   ]
  },
  {
   "cell_type": "code",
   "execution_count": 73,
   "id": "81f17ab3",
   "metadata": {},
   "outputs": [
    {
     "data": {
      "text/plain": [
       "<__main__.Car at 0x7f85490396d0>"
      ]
     },
     "execution_count": 73,
     "metadata": {},
     "output_type": "execute_result"
    }
   ],
   "source": [
    "c"
   ]
  },
  {
   "cell_type": "code",
   "execution_count": 75,
   "id": "09f54c37",
   "metadata": {},
   "outputs": [
    {
     "data": {
      "text/plain": [
       "['__class__',\n",
       " '__delattr__',\n",
       " '__dict__',\n",
       " '__dir__',\n",
       " '__doc__',\n",
       " '__eq__',\n",
       " '__format__',\n",
       " '__ge__',\n",
       " '__getattribute__',\n",
       " '__gt__',\n",
       " '__hash__',\n",
       " '__init__',\n",
       " '__init_subclass__',\n",
       " '__le__',\n",
       " '__lt__',\n",
       " '__module__',\n",
       " '__ne__',\n",
       " '__new__',\n",
       " '__reduce__',\n",
       " '__reduce_ex__',\n",
       " '__repr__',\n",
       " '__setattr__',\n",
       " '__sizeof__',\n",
       " '__str__',\n",
       " '__subclasshook__',\n",
       " '__weakref__',\n",
       " 'car_type',\n",
       " 'doors',\n",
       " 'self_drive',\n",
       " 'windows']"
      ]
     },
     "execution_count": 75,
     "metadata": {},
     "output_type": "execute_result"
    }
   ],
   "source": [
    "# we called it magic method because these all method happend in backend when we call the object of any class \n",
    "# eg- if we print the object c of class Car then __str__ method called automatically and print the statement\n",
    "# eg- we can also costomize this magic method by our own functionality. \n",
    "dir(c)"
   ]
  },
  {
   "cell_type": "code",
   "execution_count": 76,
   "id": "cee1bd15",
   "metadata": {},
   "outputs": [
    {
     "name": "stdout",
     "output_type": "stream",
     "text": [
      "<__main__.Car object at 0x7f85490396d0>\n"
     ]
    }
   ],
   "source": [
    "print(c)"
   ]
  },
  {
   "cell_type": "code",
   "execution_count": 82,
   "id": "092a8262",
   "metadata": {},
   "outputs": [],
   "source": [
    "class Car:\n",
    "    def __init__(self,window,door,engine_type):\n",
    "        self.windows = window\n",
    "        self.doors= door\n",
    "        self.car_type = engine_type\n",
    "    def __str__(self):\n",
    "        return 'we cosomize method while printing object'\n",
    "    def self_drive(self):\n",
    "        print ('this is {} type car'.format(self.car_type))"
   ]
  },
  {
   "cell_type": "code",
   "execution_count": 83,
   "id": "2a52bbaf",
   "metadata": {},
   "outputs": [],
   "source": [
    "c = Car(4,5,'petrol')"
   ]
  },
  {
   "cell_type": "code",
   "execution_count": 84,
   "id": "e0743ebd",
   "metadata": {},
   "outputs": [
    {
     "name": "stdout",
     "output_type": "stream",
     "text": [
      "we cosomize method while printing object\n"
     ]
    }
   ],
   "source": [
    "print(c)"
   ]
  },
  {
   "cell_type": "code",
   "execution_count": 85,
   "id": "6c6a837e",
   "metadata": {},
   "outputs": [
    {
     "data": {
      "text/plain": [
       "<__main__.Car at 0x7f8548cf6e20>"
      ]
     },
     "execution_count": 85,
     "metadata": {},
     "output_type": "execute_result"
    }
   ],
   "source": [
    "c"
   ]
  },
  {
   "cell_type": "code",
   "execution_count": 86,
   "id": "a6f3c354",
   "metadata": {},
   "outputs": [],
   "source": [
    "# so these all are magic method which create itself when creating object of class and calling it."
   ]
  },
  {
   "cell_type": "code",
   "execution_count": 165,
   "id": "59a638b3",
   "metadata": {},
   "outputs": [],
   "source": [
    "##now we see class variable and class methods \n",
    "\n",
    "class Car:\n",
    "    basic_price= 10000 #class variable\n",
    "    def __init__(self,window,door,engine_type):\n",
    "        self.windows = window\n",
    "        self.doors= door\n",
    "        self.car_type = engine_type\n",
    "    \n",
    "    def base_price(self): #self reffer to instance (object) of this class\n",
    "        print ('this is {} rs very expensive car'.format(self.basic_price))\n",
    "    @classmethod\n",
    "    def revise_base_price(cls,inflation): #cls directly reffer to class Car itself\n",
    "        cls.basic_price = cls.basic_price+ cls.basic_price*inflation"
   ]
  },
  {
   "cell_type": "code",
   "execution_count": 154,
   "id": "e34916de",
   "metadata": {},
   "outputs": [],
   "source": [
    "c = Car(4,5,'petrol')"
   ]
  },
  {
   "cell_type": "code",
   "execution_count": 155,
   "id": "d4629fc5",
   "metadata": {},
   "outputs": [
    {
     "data": {
      "text/plain": [
       "10000"
      ]
     },
     "execution_count": 155,
     "metadata": {},
     "output_type": "execute_result"
    }
   ],
   "source": [
    "c.basic_price"
   ]
  },
  {
   "cell_type": "code",
   "execution_count": 156,
   "id": "550919b4",
   "metadata": {},
   "outputs": [
    {
     "name": "stdout",
     "output_type": "stream",
     "text": [
      "this is 10000 rs very expensive car\n"
     ]
    }
   ],
   "source": [
    "c.base_price()"
   ]
  },
  {
   "cell_type": "code",
   "execution_count": 157,
   "id": "a8ec9ab0",
   "metadata": {},
   "outputs": [
    {
     "data": {
      "text/plain": [
       "10000"
      ]
     },
     "execution_count": 157,
     "metadata": {},
     "output_type": "execute_result"
    }
   ],
   "source": [
    "Car.basic_price"
   ]
  },
  {
   "cell_type": "code",
   "execution_count": 152,
   "id": "3adbfc47",
   "metadata": {},
   "outputs": [
    {
     "data": {
      "text/plain": [
       "<function __main__.Car.base_price(self)>"
      ]
     },
     "execution_count": 152,
     "metadata": {},
     "output_type": "execute_result"
    }
   ],
   "source": [
    "Car.base_price"
   ]
  },
  {
   "cell_type": "code",
   "execution_count": 158,
   "id": "dd387dbe",
   "metadata": {},
   "outputs": [
    {
     "data": {
      "text/plain": [
       "10000"
      ]
     },
     "execution_count": 158,
     "metadata": {},
     "output_type": "execute_result"
    }
   ],
   "source": [
    "c.basic_price"
   ]
  },
  {
   "cell_type": "code",
   "execution_count": 160,
   "id": "16a32ec1",
   "metadata": {},
   "outputs": [],
   "source": [
    "c.revise_base_price(0.10)"
   ]
  },
  {
   "cell_type": "code",
   "execution_count": 161,
   "id": "7a77f181",
   "metadata": {},
   "outputs": [
    {
     "data": {
      "text/plain": [
       "11000.0"
      ]
     },
     "execution_count": 161,
     "metadata": {},
     "output_type": "execute_result"
    }
   ],
   "source": [
    "c.basic_price"
   ]
  },
  {
   "cell_type": "code",
   "execution_count": 162,
   "id": "e3a680c9",
   "metadata": {},
   "outputs": [
    {
     "data": {
      "text/plain": [
       "11000.0"
      ]
     },
     "execution_count": 162,
     "metadata": {},
     "output_type": "execute_result"
    }
   ],
   "source": [
    "Car.basic_price"
   ]
  },
  {
   "cell_type": "code",
   "execution_count": 163,
   "id": "83949af0",
   "metadata": {},
   "outputs": [],
   "source": [
    "Car.revise_base_price(0.2)"
   ]
  },
  {
   "cell_type": "code",
   "execution_count": 164,
   "id": "30f2553a",
   "metadata": {},
   "outputs": [
    {
     "data": {
      "text/plain": [
       "13200.0"
      ]
     },
     "execution_count": 164,
     "metadata": {},
     "output_type": "execute_result"
    }
   ],
   "source": [
    "Car.basic_price"
   ]
  },
  {
   "cell_type": "code",
   "execution_count": 169,
   "id": "4e09ac5f",
   "metadata": {},
   "outputs": [],
   "source": [
    "import datetime\n",
    "now = datetime.datetime.now()"
   ]
  },
  {
   "cell_type": "code",
   "execution_count": 170,
   "id": "0e918acb",
   "metadata": {},
   "outputs": [
    {
     "data": {
      "text/plain": [
       "datetime.datetime(2021, 10, 21, 20, 47, 15, 238003)"
      ]
     },
     "execution_count": 170,
     "metadata": {},
     "output_type": "execute_result"
    }
   ],
   "source": [
    "now"
   ]
  },
  {
   "cell_type": "code",
   "execution_count": 172,
   "id": "0703be5a",
   "metadata": {},
   "outputs": [
    {
     "data": {
      "text/plain": [
       "(2021, 10)"
      ]
     },
     "execution_count": 172,
     "metadata": {},
     "output_type": "execute_result"
    }
   ],
   "source": [
    "now.year, now.month"
   ]
  },
  {
   "cell_type": "code",
   "execution_count": 177,
   "id": "273194f4",
   "metadata": {},
   "outputs": [],
   "source": [
    "# here we see static method\n",
    "\n",
    "class Car:\n",
    "    basic_price= 10000 #class variable\n",
    "    def __init__(self,window,door,engine_type):\n",
    "        self.windows = window\n",
    "        self.doors= door\n",
    "        self.car_type = engine_type\n",
    "    \n",
    "    def base_price(self): #self reffer to instance of this class\n",
    "        print ('this is {} rs very expensive car'.format(self.basic_price))\n",
    "    @classmethod\n",
    "    def revise_base_price(cls,inflation): #cls directly reffer to class Car itself\n",
    "        cls.basic_price = cls.basic_price+ cls.basic_price*inflation\n",
    "    @staticmethod # whenever class is loadded this static method get initialize first of all.\n",
    "    def check_year(): # in this we don't have to provide self or cls parameter \n",
    "        if now.year==2021:\n",
    "            return True\n",
    "        else:\n",
    "            return False\n",
    "        \n",
    "        "
   ]
  },
  {
   "cell_type": "code",
   "execution_count": 178,
   "id": "f4d07068",
   "metadata": {},
   "outputs": [
    {
     "data": {
      "text/plain": [
       "<function __main__.Car.check_year()>"
      ]
     },
     "execution_count": 178,
     "metadata": {},
     "output_type": "execute_result"
    }
   ],
   "source": [
    "Car.check_year"
   ]
  },
  {
   "cell_type": "code",
   "execution_count": 179,
   "id": "cf013962",
   "metadata": {},
   "outputs": [
    {
     "data": {
      "text/plain": [
       "True"
      ]
     },
     "execution_count": 179,
     "metadata": {},
     "output_type": "execute_result"
    }
   ],
   "source": [
    "Car.check_year()"
   ]
  },
  {
   "cell_type": "code",
   "execution_count": 210,
   "id": "96e47533",
   "metadata": {},
   "outputs": [],
   "source": [
    "# Multiple inheritance \n",
    "\n",
    "class A:\n",
    "    def methode1(self):\n",
    "        print('class A called')\n",
    "\n",
    "class B(A):\n",
    "    def methode1(self):\n",
    "        print('class B called')\n",
    "    #def methode2(self):\n",
    "        #print('class B method 2 called')\n",
    "\n",
    "class C(A):\n",
    "    def methode1(self):\n",
    "        print('class C called')\n",
    "    def methode2(self):\n",
    "        print('class c method 2 called')\n",
    "\n",
    "class D(C,B):     # here we can inherit class D from 2 base class - B and C this is multiple inheritance.\n",
    "    def methode1(self):\n",
    "        print('class D called')"
   ]
  },
  {
   "cell_type": "code",
   "execution_count": 211,
   "id": "48493aa4",
   "metadata": {},
   "outputs": [],
   "source": [
    "d= D()"
   ]
  },
  {
   "cell_type": "code",
   "execution_count": 212,
   "id": "c937654e",
   "metadata": {},
   "outputs": [
    {
     "name": "stdout",
     "output_type": "stream",
     "text": [
      "class D called\n"
     ]
    }
   ],
   "source": [
    "d.methode1()"
   ]
  },
  {
   "cell_type": "code",
   "execution_count": 213,
   "id": "d504f7ac",
   "metadata": {},
   "outputs": [
    {
     "name": "stdout",
     "output_type": "stream",
     "text": [
      "class c method 2 called\n"
     ]
    }
   ],
   "source": [
    "d.methode2()"
   ]
  },
  {
   "cell_type": "code",
   "execution_count": 214,
   "id": "541d8686",
   "metadata": {},
   "outputs": [
    {
     "name": "stdout",
     "output_type": "stream",
     "text": [
      "class B called\n"
     ]
    }
   ],
   "source": [
    "B.methode1(1)"
   ]
  },
  {
   "cell_type": "code",
   "execution_count": 202,
   "id": "4b11ae67",
   "metadata": {},
   "outputs": [
    {
     "ename": "TypeError",
     "evalue": "methode2() missing 1 required positional argument: 'self'",
     "output_type": "error",
     "traceback": [
      "\u001b[0;31m---------------------------------------------------------------------------\u001b[0m",
      "\u001b[0;31mTypeError\u001b[0m                                 Traceback (most recent call last)",
      "\u001b[0;32m<ipython-input-202-a5eca184eb39>\u001b[0m in \u001b[0;36m<module>\u001b[0;34m\u001b[0m\n\u001b[0;32m----> 1\u001b[0;31m \u001b[0mC\u001b[0m\u001b[0;34m.\u001b[0m\u001b[0mmethode2\u001b[0m\u001b[0;34m(\u001b[0m\u001b[0;34m)\u001b[0m\u001b[0;34m\u001b[0m\u001b[0;34m\u001b[0m\u001b[0m\n\u001b[0m",
      "\u001b[0;31mTypeError\u001b[0m: methode2() missing 1 required positional argument: 'self'"
     ]
    }
   ],
   "source": [
    "C.methode2()"
   ]
  },
  {
   "cell_type": "code",
   "execution_count": 204,
   "id": "12dc922d",
   "metadata": {},
   "outputs": [
    {
     "name": "stdout",
     "output_type": "stream",
     "text": [
      "class c method 2 called\n"
     ]
    }
   ],
   "source": [
    "C.methode2(5) # so here we have to give any argument anything."
   ]
  },
  {
   "cell_type": "code",
   "execution_count": null,
   "id": "d0b7a124",
   "metadata": {},
   "outputs": [],
   "source": [
    "B."
   ]
  }
 ],
 "metadata": {
  "kernelspec": {
   "display_name": "Python 3",
   "language": "python",
   "name": "python3"
  },
  "language_info": {
   "codemirror_mode": {
    "name": "ipython",
    "version": 3
   },
   "file_extension": ".py",
   "mimetype": "text/x-python",
   "name": "python",
   "nbconvert_exporter": "python",
   "pygments_lexer": "ipython3",
   "version": "3.8.8"
  }
 },
 "nbformat": 4,
 "nbformat_minor": 5
}
